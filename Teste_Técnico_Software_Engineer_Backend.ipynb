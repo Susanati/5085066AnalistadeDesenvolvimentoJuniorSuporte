{
  "nbformat": 4,
  "nbformat_minor": 0,
  "metadata": {
    "colab": {
      "provenance": [],
      "authorship_tag": "ABX9TyPc/Wdo7CCHDcGqU5ScgJN2",
      "include_colab_link": true
    },
    "kernelspec": {
      "name": "python3",
      "display_name": "Python 3"
    },
    "language_info": {
      "name": "python"
    }
  },
  "cells": [
    {
      "cell_type": "markdown",
      "metadata": {
        "id": "view-in-github",
        "colab_type": "text"
      },
      "source": [
        "<a href=\"https://colab.research.google.com/github/Susanati/SoftwareEngineerBackend/blob/main/Teste_T%C3%A9cnico_Software_Engineer_Backend.ipynb\" target=\"_parent\"><img src=\"https://colab.research.google.com/assets/colab-badge.svg\" alt=\"Open In Colab\"/></a>"
      ]
    },
    {
      "cell_type": "markdown",
      "source": [
        "**Questão 1: implemente uma função que inverta as diagonais de uma matriz\n",
        "quadrada.**"
      ],
      "metadata": {
        "id": "dcwo6JzZGO0Z"
      }
    },
    {
      "cell_type": "markdown",
      "source": [
        "\n",
        "**Resolução**\n",
        "\n",
        "Função recebe uma matriz quadrada como entrada e realiza as seguintes operações:\n",
        "\n",
        "Inverte a diagonal principal: percorre a matriz ao longo da diagonal principal (índices i e i) e troca os elementos com os correspondentes na diagonal oposta (índices i e n-i-1).\n",
        "\n",
        "Inverte a diagonal secundária: percorre a matriz ao longo da diagonal secundária (índices i e n-i-1) e troca os elementos com os correspondentes na diagonal oposta (índices n-i-1 e i).\n",
        "\n"
      ],
      "metadata": {
        "id": "Q4lHEyZ3Fc_Z"
      }
    },
    {
      "cell_type": "code",
      "execution_count": 1,
      "metadata": {
        "id": "KG8geiwzFKAV"
      },
      "outputs": [],
      "source": [
        "def inverter_diagonais(matriz):\n",
        "    n = len(matriz)\n",
        "\n",
        "    # Inverter a diagonal principal\n",
        "    for i in range(n):\n",
        "        matriz[i][i], matriz[i][n-i-1] = matriz[i][n-i-1], matriz[i][i]\n",
        "\n",
        "    # Inverter a diagonal secundária\n",
        "    for i in range(n):\n",
        "        matriz[i][i], matriz[n-i-1][i] = matriz[n-i-1][i], matriz[i][i]\n",
        "\n",
        "    return matriz\n"
      ]
    },
    {
      "cell_type": "markdown",
      "source": [
        "a função retorna a matriz com as diagonais invertidas.\n",
        "\n",
        "Você pode usar essa função da seguinte forma:"
      ],
      "metadata": {
        "id": "hPR8m4wRGBha"
      }
    },
    {
      "cell_type": "code",
      "source": [
        "# Exemplo de uso\n",
        "matriz = [[1, 2, 3],\n",
        "          [4, 5, 6],\n",
        "          [7, 8, 9]]\n",
        "\n",
        "resultado = inverter_diagonais(matriz)\n",
        "print(resultado)\n"
      ],
      "metadata": {
        "colab": {
          "base_uri": "https://localhost:8080/"
        },
        "id": "pdY8H0PwFaaM",
        "outputId": "c59b25bc-0662-433c-bd9d-d8531d71fdc1"
      },
      "execution_count": 2,
      "outputs": [
        {
          "output_type": "stream",
          "name": "stdout",
          "text": [
            "[[9, 2, 7], [4, 5, 6], [3, 8, 1]]\n"
          ]
        }
      ]
    },
    {
      "cell_type": "code",
      "source": [
        "[[3, 2, 1], # imprimir a matriz com as diagonais invertidas:\n",
        " [4, 5, 6],\n",
        " [9, 8, 7]]\n"
      ],
      "metadata": {
        "colab": {
          "base_uri": "https://localhost:8080/"
        },
        "id": "1zwrWNcFF49r",
        "outputId": "c071f1cc-52fa-4c19-9197-2b651163bfb0"
      },
      "execution_count": 3,
      "outputs": [
        {
          "output_type": "execute_result",
          "data": {
            "text/plain": [
              "[[3, 2, 1], [4, 5, 6], [9, 8, 7]]"
            ]
          },
          "metadata": {},
          "execution_count": 3
        }
      ]
    },
    {
      "cell_type": "markdown",
      "source": [
        "**Questão 2: implemente uma função que, dado uma matriz A e uma submatriz B\n",
        "(dimensões menores que A), esta função retorne quantas vezes esta submatriz B\n",
        "pode ser encontrada na matriz A.**"
      ],
      "metadata": {
        "id": "IkA_CKOvGLwq"
      }
    },
    {
      "cell_type": "markdown",
      "source": [
        "**Resoluçã**\n",
        "\n",
        "\n",
        "Essa função recebe duas matrizes, A e B, sendo B uma submatriz com dimensões menores que A. Ela realiza as seguintes operações:\n",
        "\n",
        "Inicializa uma variável count para armazenar o número de vezes que a submatriz B é encontrada em A.\n",
        "\n",
        "Obtém o número de linhas e colunas de A e B.\n",
        "\n",
        "Percorre todas as possíveis posições iniciais da submatriz B em A usando dois loops aninhados. O loop externo itera pelas linhas de A, e o loop interno itera pelas colunas de A.\n",
        "\n",
        "Para cada posição (i, j), compara a submatriz de A que começa em (i, j) (com as mesmas dimensões de B) com a submatriz B. Se forem iguais, incrementa count em 1.\n",
        "\n",
        "Retorna o valor de count, que representa o número de vezes que a submatriz B foi encontrada em A."
      ],
      "metadata": {
        "id": "Az3Ak0CmGzhr"
      }
    },
    {
      "cell_type": "code",
      "source": [
        "def contar_submatriz(A, B):\n",
        "    count = 0\n",
        "    rows_A = len(A)\n",
        "    cols_A = len(A[0])\n",
        "    rows_B = len(B)\n",
        "    cols_B = len(B[0])\n",
        "\n",
        "    for i in range(rows_A - rows_B + 1):\n",
        "        for j in range(cols_A - cols_B + 1):\n",
        "            if A[i:i+rows_B] == B:\n",
        "                count += 1\n",
        "\n",
        "    return count\n"
      ],
      "metadata": {
        "id": "n7gaCGk1GtwS"
      },
      "execution_count": 4,
      "outputs": []
    },
    {
      "cell_type": "markdown",
      "source": [
        "pode usar essa função da seguinte forma"
      ],
      "metadata": {
        "id": "zDR_Y7REHBMq"
      }
    },
    {
      "cell_type": "code",
      "source": [
        "# Exemplo de uso\n",
        "A = [[1, 2, 3, 4],\n",
        "     [5, 6, 7, 8],\n",
        "     [9, 1, 2, 3],\n",
        "     [4, 5, 6, 7]]\n",
        "\n",
        "B = [[1, 2],\n",
        "     [5, 6]]\n",
        "\n",
        "resultado = contar_submatriz(A, B)\n",
        "print(resultado)\n"
      ],
      "metadata": {
        "colab": {
          "base_uri": "https://localhost:8080/"
        },
        "id": "MWTK5NZpHCh8",
        "outputId": "b06f7491-7224-4347-8e20-2cd02a3a4d23"
      },
      "execution_count": 5,
      "outputs": [
        {
          "output_type": "stream",
          "name": "stdout",
          "text": [
            "0\n"
          ]
        }
      ]
    },
    {
      "cell_type": "markdown",
      "source": [
        "Isso imprimirá o resultado, que é o número de vezes que a submatriz B pode ser encontrada na matriz A."
      ],
      "metadata": {
        "id": "adcI33qDHINy"
      }
    },
    {
      "cell_type": "code",
      "source": [
        "# Exemplo de uso\n",
        "A = [[1, 2, 3, 4],\n",
        "     [5, 6, 7, 8],\n",
        "     [9, 1, 2, 3],\n",
        "     [4, 5, 6, 7]]\n",
        "\n",
        "B = [[6, 7],\n",
        "     [2, 3]]\n",
        "\n",
        "resultado = contar_submatriz(A, B)\n",
        "print(resultado)\n"
      ],
      "metadata": {
        "colab": {
          "base_uri": "https://localhost:8080/"
        },
        "id": "0JNVW2zMHT8K",
        "outputId": "bfe5ecc8-5ac1-4467-f547-3a6498b2fbb0"
      },
      "execution_count": 6,
      "outputs": [
        {
          "output_type": "stream",
          "name": "stdout",
          "text": [
            "0\n"
          ]
        }
      ]
    },
    {
      "cell_type": "code",
      "source": [
        "print(resultado)"
      ],
      "metadata": {
        "colab": {
          "base_uri": "https://localhost:8080/"
        },
        "id": "Dnt1fE2qHgQp",
        "outputId": "23ea6b61-324e-4407-c23e-6c2cf7f65b60"
      },
      "execution_count": 8,
      "outputs": [
        {
          "output_type": "stream",
          "name": "stdout",
          "text": [
            "0\n"
          ]
        }
      ]
    },
    {
      "cell_type": "code",
      "source": [
        "print(resultado)"
      ],
      "metadata": {
        "colab": {
          "base_uri": "https://localhost:8080/"
        },
        "id": "0EY87a4oHdK6",
        "outputId": "edfc72c6-c90f-4cea-a77f-434f648a77eb"
      },
      "execution_count": 7,
      "outputs": [
        {
          "output_type": "stream",
          "name": "stdout",
          "text": [
            "0\n"
          ]
        }
      ]
    },
    {
      "cell_type": "markdown",
      "source": [
        "Neste caso, a matriz A é a mesma do exemplo anterior, mas a submatriz B é diferente. A submatriz B é uma matriz 2x2 com os elementos [6, 7] na primeira linha e [2, 3] na segunda linha.\n",
        "\n",
        "Ao executar o código acima, você obterá o resultado, que é o número de vezes que a submatriz B pode ser encontrada na matriz A. Dependendo do exemplo, o resultado pode ser diferente.\n",
        "\n",
        "Lembre-se de que a função contar_submatriz conta quantas vezes a submatriz B aparece exatamente na mesma posição em A."
      ],
      "metadata": {
        "id": "gcYupj8IHXUh"
      }
    }
  ]
}